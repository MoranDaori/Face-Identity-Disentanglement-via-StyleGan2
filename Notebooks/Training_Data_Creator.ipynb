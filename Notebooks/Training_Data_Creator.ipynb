{
  "nbformat": 4,
  "nbformat_minor": 0,
  "metadata": {
    "colab": {
      "name": "Training Data Creator.ipynb",
      "provenance": [],
      "collapsed_sections": []
    },
    "kernelspec": {
      "name": "python3",
      "display_name": "Python 3"
    }
  },
  "cells": [
    {
      "cell_type": "code",
      "metadata": {
        "id": "MijIVOMGErpu"
      },
      "source": [
        "from google.colab import drive\r\n",
        "drive.mount('/content/drive')"
      ],
      "execution_count": null,
      "outputs": []
    },
    {
      "cell_type": "code",
      "metadata": {
        "id": "ARLm10zSEw2H"
      },
      "source": [
        "import os\r\n",
        "os.chdir('/content')\r\n",
        "CODE_DIR = 'pixel2style2pixel'"
      ],
      "execution_count": null,
      "outputs": []
    },
    {
      "cell_type": "code",
      "metadata": {
        "id": "BAx4ZdHlEw4k"
      },
      "source": [
        "!git clone https://github.com/eladrich/pixel2style2pixel.git $CODE_DIR"
      ],
      "execution_count": null,
      "outputs": []
    },
    {
      "cell_type": "code",
      "metadata": {
        "id": "nCERZjevEw7M"
      },
      "source": [
        " !wget https://github.com/ninja-build/ninja/releases/download/v1.8.2/ninja-linux.zip\r\n",
        " !sudo unzip ninja-linux.zip -d /usr/local/bin/\r\n",
        " !sudo update-alternatives --install /usr/bin/ninja ninja /usr/local/bin/ninja 1 --force"
      ],
      "execution_count": null,
      "outputs": []
    },
    {
      "cell_type": "code",
      "metadata": {
        "id": "R1rYSzVpEw93"
      },
      "source": [
        "os.chdir(f'./{CODE_DIR}')"
      ],
      "execution_count": null,
      "outputs": []
    },
    {
      "cell_type": "code",
      "metadata": {
        "id": "fmen35t-ExAp"
      },
      "source": [
        "from argparse import Namespace\r\n",
        "import time\r\n",
        "import os\r\n",
        "import sys\r\n",
        "import pprint\r\n",
        "import numpy as np\r\n",
        "from PIL import Image\r\n",
        "import torch\r\n",
        "import torchvision.transforms as transforms\r\n",
        "import matplotlib.pyplot as plt\r\n",
        "from pathlib import Path\r\n",
        "from torchvision import utils\r\n",
        "from tqdm import tqdm\r\n",
        "\r\n",
        "sys.path.append(\".\")\r\n",
        "sys.path.append(\"..\")\r\n",
        "\r\n",
        "from datasets import augmentations\r\n",
        "from utils.common import tensor2im, log_input_image\r\n",
        "\r\n",
        "%load_ext autoreload\r\n",
        "%autoreload 2"
      ],
      "execution_count": null,
      "outputs": []
    },
    {
      "cell_type": "code",
      "metadata": {
        "id": "O942D7_4E3XO"
      },
      "source": [
        "from models.stylegan2.model import Generator\r\n",
        "generator = Generator(1024,512,8).cuda()\r\n",
        "use_550000 = False\r\n",
        "if use_550000:\r\n",
        "  state_dict = torch.load('/content/drive/MyDrive/StyleGan/550000.pt')\r\n",
        "else:\r\n",
        "  state_dict = torch.load('/content/drive/MyDrive/StyleGan/stylegan2-ffhq-config-f.pt')\r\n",
        "generator.load_state_dict(state_dict['g_ema'], strict=False)"
      ],
      "execution_count": null,
      "outputs": []
    },
    {
      "cell_type": "code",
      "metadata": {
        "id": "QA8qTIL7E3aF"
      },
      "source": [
        "generator = generator.eval()\r\n",
        "NUMBER_OF_IMAGES = 10000"
      ],
      "execution_count": null,
      "outputs": []
    },
    {
      "cell_type": "code",
      "metadata": {
        "id": "A95f6AJlE3ch"
      },
      "source": [
        "counter = 0\r\n",
        "cur_dir = 0\r\n",
        "num_of_images_in_single_loop = 10\r\n",
        "for i in tqdm(range(NUMBER_OF_IMAGES//num_of_images_in_single_loop)):\r\n",
        "  torch.cuda.empty_cache()\r\n",
        "  with torch.no_grad():\r\n",
        "    sample_z = torch.randn(num_of_images_in_single_loop, 512, device='cuda')\r\n",
        "    sample, latents = generator(\r\n",
        "        [sample_z], input_is_latent=False, return_latents=True, truncation= 1, truncation_latent = None\r\n",
        "    )\r\n",
        "\r\n",
        "  latents = latents.cpu().detach().numpy()\r\n",
        "\r\n",
        "\r\n",
        "  for index in range(len(sample)):\r\n",
        "    if (counter % 1000) == 0:\r\n",
        "      Path(f\"/content/drive/My Drive/StyleGan/fake/w/{int(counter / 1000)}\").mkdir(parents=True, exist_ok=True)\r\n",
        "      Path(f\"/content/drive/My Drive/StyleGan/fake/image/{int(counter / 1000)}\").mkdir(parents=True, exist_ok=True)\r\n",
        "      cur_dir = int(counter / 1000)\r\n",
        "\r\n",
        "    with open(f'/content/drive/My Drive/StyleGan/fake/w/{cur_dir}/{counter}.npy', 'wb') as f:\r\n",
        "      np.save(f, latents[index][0])\r\n",
        "\r\n",
        "    utils.save_image(\r\n",
        "                sample[index],\r\n",
        "                f'/content/drive/My Drive/StyleGan/fake/image/{cur_dir}/{counter}.png',\r\n",
        "                nrow=1,\r\n",
        "                normalize=True,\r\n",
        "                range=(-1, 1),\r\n",
        "            )\r\n",
        "\r\n",
        "\r\n",
        "    counter+=1"
      ],
      "execution_count": null,
      "outputs": []
    },
    {
      "cell_type": "code",
      "metadata": {
        "id": "UsqVP-LhFI9w"
      },
      "source": [
        ""
      ],
      "execution_count": null,
      "outputs": []
    },
    {
      "cell_type": "code",
      "metadata": {
        "id": "FUvAD2qjFJAP"
      },
      "source": [
        "fake_w = np.load(r'/content/drive/MyDrive/StyleGan/fake/w/0/0.npy')\r\n",
        "fake_w = fake_w.unsqueeze(0)\r\n",
        "fake_w = torch.from_numpy(fake_w)\r\n",
        "fake_w = fake_w.float()\r\n",
        "images,b = generator([fake_w.cuda()], input_is_latent=False)"
      ],
      "execution_count": null,
      "outputs": []
    },
    {
      "cell_type": "code",
      "metadata": {
        "id": "RN9dS95DFJC-"
      },
      "source": [
        "image = images[0].cpu().detach().numpy().transpose(1,2,0)\r\n",
        "import matplotlib.pyplot as plt\r\n",
        "plt.imshow(image)\r\n",
        "plt.show()"
      ],
      "execution_count": null,
      "outputs": []
    },
    {
      "cell_type": "code",
      "metadata": {
        "id": "WeweWpLlE3fp"
      },
      "source": [
        ""
      ],
      "execution_count": null,
      "outputs": []
    }
  ]
}