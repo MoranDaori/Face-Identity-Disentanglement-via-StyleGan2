{
 "cells": [
  {
   "cell_type": "code",
   "execution_count": 1,
   "metadata": {
    "collapsed": true
   },
   "outputs": [],
   "source": [
    "from Losses.AdversarialLoss import calc_Dw_loss\n",
    "from Models.Encoders.ID_Encoder import resnet50_scratch_dag\n",
    "from Models.Encoders.Attribute_Encoder import Encoder_Attribute\n",
    "from Models.Discrimanator import Discriminator\n",
    "from Models.MLP import MLPModel\n",
    "import torch\n",
    "import torch.utils.data\n",
    "import torchvision.datasets as dset\n",
    "import torchvision.transforms as transforms\n",
    "import matplotlib.pyplot as plt\n",
    "import numpy as np\n",
    "import seaborn as sns\n",
    "sns.set()"
   ]
  },
  {
   "cell_type": "code",
   "execution_count": 8,
   "outputs": [
    {
     "name": "stderr",
     "output_type": "stream",
     "text": [
      "c:\\users\\danie\\desktop\\python envs\\pytorch\\lib\\site-packages\\setuptools\\distutils_patch.py:25: UserWarning: Distutils was imported before Setuptools. This usage is discouraged and may exhibit undesirable behaviors or errors. Please use Setuptools' objects directly or at least import Setuptools first.\n",
      "  warnings.warn(\n",
      "c:\\users\\danie\\desktop\\python envs\\pytorch\\lib\\site-packages\\torch\\utils\\cpp_extension.py:287: UserWarning: Error checking compiler version for cl: [WinError 2] The system cannot find the file specified\n",
      "  warnings.warn('Error checking compiler version for {}: {}'.format(compiler, error))\n"
     ]
    },
    {
     "ename": "OSError",
     "evalue": "CUDA_HOME environment variable is not set. Please set it to your CUDA install root.",
     "output_type": "error",
     "traceback": [
      "\u001B[1;31m---------------------------------------------------------------------------\u001B[0m",
      "\u001B[1;31mOSError\u001B[0m                                   Traceback (most recent call last)",
      "\u001B[1;32m<ipython-input-8-cb79f1119f23>\u001B[0m in \u001B[0;36m<module>\u001B[1;34m\u001B[0m\n\u001B[1;32m----> 1\u001B[1;33m \u001B[1;32mfrom\u001B[0m \u001B[0mModels\u001B[0m\u001B[1;33m.\u001B[0m\u001B[0mStyleGan2\u001B[0m\u001B[1;33m.\u001B[0m\u001B[0mmodel\u001B[0m \u001B[1;32mimport\u001B[0m \u001B[0mGenerator\u001B[0m\u001B[1;33m\u001B[0m\u001B[1;33m\u001B[0m\u001B[0m\n\u001B[0m\u001B[0;32m      2\u001B[0m \u001B[1;33m\u001B[0m\u001B[0m\n",
      "\u001B[1;32m~\\Desktop\\CS_year3\\CNN Project\\Face-Identity-Disentanglement-via-Latent-Space-Mapping-StyleGan2\\Models\\StyleGan2\\model.py\u001B[0m in \u001B[0;36m<module>\u001B[1;34m\u001B[0m\n\u001B[0;32m      5\u001B[0m \u001B[1;32mfrom\u001B[0m \u001B[0mtorch\u001B[0m\u001B[1;33m.\u001B[0m\u001B[0mnn\u001B[0m \u001B[1;32mimport\u001B[0m \u001B[0mfunctional\u001B[0m \u001B[1;32mas\u001B[0m \u001B[0mF\u001B[0m\u001B[1;33m\u001B[0m\u001B[1;33m\u001B[0m\u001B[0m\n\u001B[0;32m      6\u001B[0m \u001B[1;33m\u001B[0m\u001B[0m\n\u001B[1;32m----> 7\u001B[1;33m \u001B[1;32mfrom\u001B[0m \u001B[0mModels\u001B[0m\u001B[1;33m.\u001B[0m\u001B[0mStyleGan2\u001B[0m\u001B[1;33m.\u001B[0m\u001B[0mop\u001B[0m \u001B[1;32mimport\u001B[0m \u001B[0mFusedLeakyReLU\u001B[0m\u001B[1;33m,\u001B[0m \u001B[0mfused_leaky_relu\u001B[0m\u001B[1;33m,\u001B[0m \u001B[0mupfirdn2d\u001B[0m\u001B[1;33m\u001B[0m\u001B[1;33m\u001B[0m\u001B[0m\n\u001B[0m\u001B[0;32m      8\u001B[0m \u001B[1;33m\u001B[0m\u001B[0m\n\u001B[0;32m      9\u001B[0m \u001B[1;33m\u001B[0m\u001B[0m\n",
      "\u001B[1;32m~\\Desktop\\CS_year3\\CNN Project\\Face-Identity-Disentanglement-via-Latent-Space-Mapping-StyleGan2\\Models\\StyleGan2\\op\\__init__.py\u001B[0m in \u001B[0;36m<module>\u001B[1;34m\u001B[0m\n\u001B[1;32m----> 1\u001B[1;33m \u001B[1;32mfrom\u001B[0m \u001B[1;33m.\u001B[0m\u001B[0mfused_act\u001B[0m \u001B[1;32mimport\u001B[0m \u001B[0mFusedLeakyReLU\u001B[0m\u001B[1;33m,\u001B[0m \u001B[0mfused_leaky_relu\u001B[0m\u001B[1;33m\u001B[0m\u001B[1;33m\u001B[0m\u001B[0m\n\u001B[0m\u001B[0;32m      2\u001B[0m \u001B[1;32mfrom\u001B[0m \u001B[1;33m.\u001B[0m\u001B[0mupfirdn2d\u001B[0m \u001B[1;32mimport\u001B[0m \u001B[0mupfirdn2d\u001B[0m\u001B[1;33m\u001B[0m\u001B[1;33m\u001B[0m\u001B[0m\n",
      "\u001B[1;32m~\\Desktop\\CS_year3\\CNN Project\\Face-Identity-Disentanglement-via-Latent-Space-Mapping-StyleGan2\\Models\\StyleGan2\\op\\fused_act.py\u001B[0m in \u001B[0;36m<module>\u001B[1;34m\u001B[0m\n\u001B[0;32m      7\u001B[0m \u001B[1;33m\u001B[0m\u001B[0m\n\u001B[0;32m      8\u001B[0m \u001B[0mmodule_path\u001B[0m \u001B[1;33m=\u001B[0m \u001B[0mos\u001B[0m\u001B[1;33m.\u001B[0m\u001B[0mpath\u001B[0m\u001B[1;33m.\u001B[0m\u001B[0mdirname\u001B[0m\u001B[1;33m(\u001B[0m\u001B[0m__file__\u001B[0m\u001B[1;33m)\u001B[0m\u001B[1;33m\u001B[0m\u001B[1;33m\u001B[0m\u001B[0m\n\u001B[1;32m----> 9\u001B[1;33m fused = load(\n\u001B[0m\u001B[0;32m     10\u001B[0m     \u001B[1;34m'fused'\u001B[0m\u001B[1;33m,\u001B[0m\u001B[1;33m\u001B[0m\u001B[1;33m\u001B[0m\u001B[0m\n\u001B[0;32m     11\u001B[0m     sources=[\n",
      "\u001B[1;32mc:\\users\\danie\\desktop\\python envs\\pytorch\\lib\\site-packages\\torch\\utils\\cpp_extension.py\u001B[0m in \u001B[0;36mload\u001B[1;34m(name, sources, extra_cflags, extra_cuda_cflags, extra_ldflags, extra_include_paths, build_directory, verbose, with_cuda, is_python_module, keep_intermediates)\u001B[0m\n\u001B[0;32m    984\u001B[0m                 verbose=True)\n\u001B[0;32m    985\u001B[0m     '''\n\u001B[1;32m--> 986\u001B[1;33m     return _jit_compile(\n\u001B[0m\u001B[0;32m    987\u001B[0m         \u001B[0mname\u001B[0m\u001B[1;33m,\u001B[0m\u001B[1;33m\u001B[0m\u001B[1;33m\u001B[0m\u001B[0m\n\u001B[0;32m    988\u001B[0m         \u001B[1;33m[\u001B[0m\u001B[0msources\u001B[0m\u001B[1;33m]\u001B[0m \u001B[1;32mif\u001B[0m \u001B[0misinstance\u001B[0m\u001B[1;33m(\u001B[0m\u001B[0msources\u001B[0m\u001B[1;33m,\u001B[0m \u001B[0mstr\u001B[0m\u001B[1;33m)\u001B[0m \u001B[1;32melse\u001B[0m \u001B[0msources\u001B[0m\u001B[1;33m,\u001B[0m\u001B[1;33m\u001B[0m\u001B[1;33m\u001B[0m\u001B[0m\n",
      "\u001B[1;32mc:\\users\\danie\\desktop\\python envs\\pytorch\\lib\\site-packages\\torch\\utils\\cpp_extension.py\u001B[0m in \u001B[0;36m_jit_compile\u001B[1;34m(name, sources, extra_cflags, extra_cuda_cflags, extra_ldflags, extra_include_paths, build_directory, verbose, with_cuda, is_python_module, keep_intermediates)\u001B[0m\n\u001B[0;32m   1191\u001B[0m                             \u001B[0mclean_ctx\u001B[0m\u001B[1;33m=\u001B[0m\u001B[0mclean_ctx\u001B[0m\u001B[1;33m\u001B[0m\u001B[1;33m\u001B[0m\u001B[0m\n\u001B[0;32m   1192\u001B[0m                         )\n\u001B[1;32m-> 1193\u001B[1;33m                     _write_ninja_file_and_build_library(\n\u001B[0m\u001B[0;32m   1194\u001B[0m                         \u001B[0mname\u001B[0m\u001B[1;33m=\u001B[0m\u001B[0mname\u001B[0m\u001B[1;33m,\u001B[0m\u001B[1;33m\u001B[0m\u001B[1;33m\u001B[0m\u001B[0m\n\u001B[0;32m   1195\u001B[0m                         \u001B[0msources\u001B[0m\u001B[1;33m=\u001B[0m\u001B[0msources\u001B[0m\u001B[1;33m,\u001B[0m\u001B[1;33m\u001B[0m\u001B[1;33m\u001B[0m\u001B[0m\n",
      "\u001B[1;32mc:\\users\\danie\\desktop\\python envs\\pytorch\\lib\\site-packages\\torch\\utils\\cpp_extension.py\u001B[0m in \u001B[0;36m_write_ninja_file_and_build_library\u001B[1;34m(name, sources, extra_cflags, extra_cuda_cflags, extra_ldflags, extra_include_paths, build_directory, verbose, with_cuda)\u001B[0m\n\u001B[0;32m   1274\u001B[0m     \u001B[1;32mif\u001B[0m \u001B[0mwith_cuda\u001B[0m \u001B[1;32mis\u001B[0m \u001B[1;32mNone\u001B[0m\u001B[1;33m:\u001B[0m\u001B[1;33m\u001B[0m\u001B[1;33m\u001B[0m\u001B[0m\n\u001B[0;32m   1275\u001B[0m         \u001B[0mwith_cuda\u001B[0m \u001B[1;33m=\u001B[0m \u001B[0many\u001B[0m\u001B[1;33m(\u001B[0m\u001B[0mmap\u001B[0m\u001B[1;33m(\u001B[0m\u001B[0m_is_cuda_file\u001B[0m\u001B[1;33m,\u001B[0m \u001B[0msources\u001B[0m\u001B[1;33m)\u001B[0m\u001B[1;33m)\u001B[0m\u001B[1;33m\u001B[0m\u001B[1;33m\u001B[0m\u001B[0m\n\u001B[1;32m-> 1276\u001B[1;33m     extra_ldflags = _prepare_ldflags(\n\u001B[0m\u001B[0;32m   1277\u001B[0m         \u001B[0mextra_ldflags\u001B[0m \u001B[1;32mor\u001B[0m \u001B[1;33m[\u001B[0m\u001B[1;33m]\u001B[0m\u001B[1;33m,\u001B[0m\u001B[1;33m\u001B[0m\u001B[1;33m\u001B[0m\u001B[0m\n\u001B[0;32m   1278\u001B[0m         \u001B[0mwith_cuda\u001B[0m\u001B[1;33m,\u001B[0m\u001B[1;33m\u001B[0m\u001B[1;33m\u001B[0m\u001B[0m\n",
      "\u001B[1;32mc:\\users\\danie\\desktop\\python envs\\pytorch\\lib\\site-packages\\torch\\utils\\cpp_extension.py\u001B[0m in \u001B[0;36m_prepare_ldflags\u001B[1;34m(extra_ldflags, with_cuda, verbose)\u001B[0m\n\u001B[0;32m   1362\u001B[0m         \u001B[1;32mif\u001B[0m \u001B[0mIS_WINDOWS\u001B[0m\u001B[1;33m:\u001B[0m\u001B[1;33m\u001B[0m\u001B[1;33m\u001B[0m\u001B[0m\n\u001B[0;32m   1363\u001B[0m             extra_ldflags.append('/LIBPATH:{}'.format(\n\u001B[1;32m-> 1364\u001B[1;33m                 _join_cuda_home('lib/x64')))\n\u001B[0m\u001B[0;32m   1365\u001B[0m             \u001B[0mextra_ldflags\u001B[0m\u001B[1;33m.\u001B[0m\u001B[0mappend\u001B[0m\u001B[1;33m(\u001B[0m\u001B[1;34m'cudart.lib'\u001B[0m\u001B[1;33m)\u001B[0m\u001B[1;33m\u001B[0m\u001B[1;33m\u001B[0m\u001B[0m\n\u001B[0;32m   1366\u001B[0m             \u001B[1;32mif\u001B[0m \u001B[0mCUDNN_HOME\u001B[0m \u001B[1;32mis\u001B[0m \u001B[1;32mnot\u001B[0m \u001B[1;32mNone\u001B[0m\u001B[1;33m:\u001B[0m\u001B[1;33m\u001B[0m\u001B[1;33m\u001B[0m\u001B[0m\n",
      "\u001B[1;32mc:\\users\\danie\\desktop\\python envs\\pytorch\\lib\\site-packages\\torch\\utils\\cpp_extension.py\u001B[0m in \u001B[0;36m_join_cuda_home\u001B[1;34m(*paths)\u001B[0m\n\u001B[0;32m   1825\u001B[0m     '''\n\u001B[0;32m   1826\u001B[0m     \u001B[1;32mif\u001B[0m \u001B[0mCUDA_HOME\u001B[0m \u001B[1;32mis\u001B[0m \u001B[1;32mNone\u001B[0m\u001B[1;33m:\u001B[0m\u001B[1;33m\u001B[0m\u001B[1;33m\u001B[0m\u001B[0m\n\u001B[1;32m-> 1827\u001B[1;33m         raise EnvironmentError('CUDA_HOME environment variable is not set. '\n\u001B[0m\u001B[0;32m   1828\u001B[0m                                'Please set it to your CUDA install root.')\n\u001B[0;32m   1829\u001B[0m     \u001B[1;32mreturn\u001B[0m \u001B[0mos\u001B[0m\u001B[1;33m.\u001B[0m\u001B[0mpath\u001B[0m\u001B[1;33m.\u001B[0m\u001B[0mjoin\u001B[0m\u001B[1;33m(\u001B[0m\u001B[0mCUDA_HOME\u001B[0m\u001B[1;33m,\u001B[0m \u001B[1;33m*\u001B[0m\u001B[0mpaths\u001B[0m\u001B[1;33m)\u001B[0m\u001B[1;33m\u001B[0m\u001B[1;33m\u001B[0m\u001B[0m\n",
      "\u001B[1;31mOSError\u001B[0m: CUDA_HOME environment variable is not set. Please set it to your CUDA install root."
     ]
    }
   ],
   "source": [
    "from Models.StyleGan2.model import Generator"
   ],
   "metadata": {
    "collapsed": false,
    "pycharm": {
     "name": "#%%\n"
    }
   }
  },
  {
   "cell_type": "code",
   "execution_count": null,
   "outputs": [],
   "source": [],
   "metadata": {
    "collapsed": false,
    "pycharm": {
     "name": "#%%\n"
    }
   }
  }
 ],
 "metadata": {
  "kernelspec": {
   "display_name": "Python 3",
   "language": "python",
   "name": "python3"
  },
  "language_info": {
   "codemirror_mode": {
    "name": "ipython",
    "version": 2
   },
   "file_extension": ".py",
   "mimetype": "text/x-python",
   "name": "python",
   "nbconvert_exporter": "python",
   "pygments_lexer": "ipython2",
   "version": "2.7.6"
  }
 },
 "nbformat": 4,
 "nbformat_minor": 0
}