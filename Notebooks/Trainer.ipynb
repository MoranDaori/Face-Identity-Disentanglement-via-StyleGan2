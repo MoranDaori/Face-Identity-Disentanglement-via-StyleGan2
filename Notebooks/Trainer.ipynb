{
 "cells": [
  {
   "cell_type": "code",
   "execution_count": 67,
   "metadata": {},
   "outputs": [],
   "source": [
    "from Losses.AdversarialLoss import calc_Dw_loss\n",
    "from Models.Encoders.ID_Encoder import resnet50_scratch_dag\n",
    "from Models.Encoders.Attribute_Encoder import Encoder_Attribute\n",
    "from Models.Discrimanator import Discriminator\n",
    "from Models.MLP import MLPModel\n",
    "import torch\n",
    "import torch.utils.data\n",
    "import torchvision.datasets as dset\n",
    "import torchvision.transforms as transforms\n",
    "import matplotlib.pyplot as plt\n",
    "import numpy as np\n",
    "import seaborn as sns\n",
    "sns.set()\n"
   ]
  },
  {
   "cell_type": "code",
   "execution_count": 68,
   "outputs": [],
   "source": [
    "def get_data(mean, std, image_size, data_dir):\n",
    "    full_dataset = dset.ImageFolder(root=data_dir,\n",
    "                                    transform=transforms.Compose([\n",
    "                                        transforms.Resize(image_size),\n",
    "                                        transforms.ToTensor(),\n",
    "                                    ]))\n",
    "\n",
    "    return full_dataset\n"
   ],
   "metadata": {
    "collapsed": false,
    "pycharm": {
     "name": "#%%\n"
    }
   }
  },
  {
   "cell_type": "code",
   "execution_count": 69,
   "outputs": [],
   "source": [
    "def make_loaders(dataset, batch_size):\n",
    "    train_loader = torch.utils.data.DataLoader(dataset=dataset,\n",
    "                                              batch_size=batch_size)\n",
    "\n",
    "    return train_loader"
   ],
   "metadata": {
    "collapsed": false,
    "pycharm": {
     "name": "#%%\n"
    }
   }
  },
  {
   "cell_type": "code",
   "execution_count": 70,
   "outputs": [
    {
     "name": "stderr",
     "output_type": "stream",
     "text": [
      "Using cache found in C:\\Users\\danie/.cache\\torch\\hub\\pytorch_vision_v0.6.0\n",
      "c:\\users\\danie\\desktop\\python envs\\pytorch\\lib\\site-packages\\torchvision\\models\\inception.py:75: FutureWarning: The default weight initialization of inception_v3 will be changed in future releases of torchvision. If you wish to keep the old behavior (which leads to long initialization times due to scipy/scipy#11299), please set init_weights=True.\n",
      "  warnings.warn('The default weight initialization of inception_v3 will be changed in future releases of '\n"
     ]
    }
   ],
   "source": [
    "####### Create Models #######\n",
    "id_encoder = resnet50_scratch_dag(weights_path=r'..\\Weights\\resnet50_scratch_dag.pth')\n",
    "\n",
    "# The model should be kept frozen during training time\n",
    "id_encoder.eval()\n",
    "\n",
    "attr_encoder = Encoder_Attribute()\n",
    "discriminator = Discriminator(512, 512)\n",
    "mlp = MLPModel(4096, n_hid=2048)"
   ],
   "metadata": {
    "collapsed": false,
    "pycharm": {
     "name": "#%%\n"
    }
   }
  },
  {
   "cell_type": "code",
   "execution_count": 71,
   "outputs": [],
   "source": [
    "####### Create data #######\n",
    "data_folder = get_data(id_encoder.meta['mean'], id_encoder.meta['std'], id_encoder.meta['imageSize'][1],\n",
    "                       r'..\\Datasets\\fake_256\\images')\n",
    "train_loader = make_loaders(data_folder, 8)\n",
    "images, _ = next(iter(train_loader))"
   ],
   "metadata": {
    "collapsed": false,
    "pycharm": {
     "name": "#%%\n"
    }
   }
  },
  {
   "cell_type": "code",
   "execution_count": 72,
   "outputs": [],
   "source": [
    "optimizerD = torch.optim.Adam(discriminator.parameters(), lr=0.01, betas=(0.99, 0.999))\n",
    "optimizerMLP = torch.optim.Adam(mlp.parameters(), lr=0.01, betas=(0.99, 0.999))"
   ],
   "metadata": {
    "collapsed": false,
    "pycharm": {
     "name": "#%%\n"
    }
   }
  },
  {
   "cell_type": "code",
   "execution_count": 73,
   "outputs": [],
   "source": [
    "####### Forward Pass #######\n",
    "_, id_vec = id_encoder(images)\n",
    "#_, attr_vec = attr_encoder(images)\n",
    "id_vec = torch.squeeze(id_vec)\n",
    "attr_vec = torch.squeeze(id_vec)\n",
    "encoded_vec = torch.cat((id_vec,attr_vec), dim=1)\n",
    "generated_w_vec = mlp(encoded_vec)"
   ],
   "metadata": {
    "collapsed": false,
    "pycharm": {
     "name": "#%%\n"
    }
   }
  },
  {
   "cell_type": "code",
   "execution_count": 74,
   "outputs": [],
   "source": [
    "MLP_losses = []\n",
    "D_losses = []"
   ],
   "metadata": {
    "collapsed": false,
    "pycharm": {
     "name": "#%%\n"
    }
   }
  },
  {
   "cell_type": "code",
   "execution_count": 80,
   "outputs": [
    {
     "name": "stdout",
     "output_type": "stream",
     "text": [
      "D real loss is: 3.292675216926e-07\n",
      "D fake loss is: 8.063982370742906e-09\n",
      "D real loss is: 1.9184675181804778e-08\n",
      "D fake loss is: 5.640789169092386e-09\n",
      "D real loss is: 7.939283364066796e-08\n",
      "D fake loss is: 4.811728260278869e-08\n",
      "D real loss is: 2.6649555451285778e-08\n",
      "D fake loss is: 3.595425468461144e-08\n",
      "D real loss is: 3.4979740348717314e-07\n",
      "D fake loss is: 2.2718981540492678e-07\n",
      "D real loss is: 8.824873987123283e-08\n",
      "D fake loss is: 3.7511071582230215e-08\n",
      "D real loss is: 2.9620956798481757e-09\n",
      "D fake loss is: 2.9283276248293078e-08\n",
      "D real loss is: 1.2003660287973617e-07\n",
      "D fake loss is: 2.3010628069641825e-08\n",
      "D real loss is: 4.34382805281075e-08\n",
      "D fake loss is: 7.3792585375542785e-09\n",
      "D real loss is: 7.99460408984487e-09\n",
      "D fake loss is: 6.619570669386121e-09\n",
      "D real loss is: 8.824352448755235e-08\n",
      "D fake loss is: 5.702363470305727e-09\n",
      "D real loss is: 9.45952738362621e-09\n",
      "D fake loss is: 4.297521005725002e-09\n",
      "D real loss is: 6.401602803407513e-08\n",
      "D fake loss is: 1.929556514568276e-09\n",
      "D real loss is: 8.296840547927786e-09\n",
      "D fake loss is: 1.3117842811993796e-08\n",
      "D real loss is: 5.211928222337292e-09\n",
      "D fake loss is: 3.649701429964125e-09\n",
      "D real loss is: 2.3659660897124013e-09\n",
      "D fake loss is: 2.6747002834781597e-08\n",
      "D real loss is: 1.7810814156860033e-08\n",
      "D fake loss is: 6.628489046534014e-08\n",
      "D real loss is: 2.9384141786437112e-09\n",
      "D fake loss is: 2.8773079474575525e-09\n",
      "D real loss is: 1.0603253830510084e-09\n",
      "D fake loss is: 6.172229394252327e-10\n",
      "D real loss is: 1.8847737592864178e-08\n",
      "D fake loss is: 1.1099559049654317e-09\n",
      "D real loss is: 2.030133838815118e-09\n",
      "D fake loss is: 2.363996998155926e-08\n",
      "D real loss is: 3.2186142640000526e-09\n",
      "D fake loss is: 7.926104217403918e-09\n",
      "D real loss is: 2.3142547878052255e-09\n",
      "D fake loss is: 3.185100239111449e-10\n",
      "D real loss is: 1.3374182872283313e-09\n",
      "D fake loss is: 1.1391333210042376e-08\n",
      "D real loss is: 1.0113968551550556e-09\n",
      "D fake loss is: 2.8405583440971327e-10\n",
      "D real loss is: 1.4109136969864267e-08\n",
      "D fake loss is: 2.8021571174541293e-10\n",
      "D real loss is: 9.279112200832884e-11\n",
      "D fake loss is: 3.2040212705197746e-09\n",
      "D real loss is: 4.1447347776113475e-09\n",
      "D fake loss is: 1.0395811295138557e-10\n",
      "D real loss is: 2.448788061215623e-09\n",
      "D fake loss is: 7.948423863535226e-11\n",
      "D real loss is: 3.137047954737682e-08\n",
      "D fake loss is: 1.0641857534077204e-10\n",
      "D real loss is: 1.0371974806799855e-10\n",
      "D fake loss is: 5.120597279528738e-10\n",
      "D real loss is: 2.811342980635345e-08\n",
      "D fake loss is: 3.20751064597502e-10\n",
      "D real loss is: 1.0644697345796317e-09\n",
      "D fake loss is: 4.558372429519508e-11\n",
      "D real loss is: 6.813326569599099e-10\n",
      "D fake loss is: 3.967293438211783e-10\n",
      "D real loss is: 7.131224083467558e-11\n",
      "D fake loss is: 5.724865581591132e-10\n",
      "D real loss is: 2.765410296590165e-11\n",
      "D fake loss is: 2.17793963419588e-10\n",
      "D real loss is: 2.6564936361772595e-10\n",
      "D fake loss is: 3.033618634074031e-10\n",
      "D real loss is: 1.4542199666678357e-09\n",
      "D fake loss is: 1.437634733481019e-10\n",
      "D real loss is: 3.4805995863251837e-09\n",
      "D fake loss is: 2.7178087558255015e-10\n",
      "D real loss is: 1.4541029491610402e-10\n",
      "D fake loss is: 7.305067661889098e-11\n",
      "D real loss is: 8.538584284067952e-10\n",
      "D fake loss is: 4.562079880532366e-11\n",
      "D real loss is: 7.2231083961260545e-12\n",
      "D fake loss is: 4.4106451824177384e-10\n",
      "D real loss is: 5.755645959837352e-11\n",
      "D fake loss is: 1.5191509508682977e-11\n",
      "D real loss is: 4.2505951536320197e-10\n",
      "D fake loss is: 8.122577055402758e-10\n",
      "D real loss is: 3.599931810982504e-11\n",
      "D fake loss is: 3.4332647835810803e-11\n",
      "D real loss is: 5.859104867944609e-11\n",
      "D fake loss is: 6.709577771851771e-12\n",
      "D real loss is: 3.2150501011463106e-11\n",
      "D fake loss is: 7.351529975052618e-12\n",
      "D real loss is: 1.795140598670475e-11\n",
      "D fake loss is: 2.170521401501091e-11\n",
      "D real loss is: 3.781414417702855e-12\n",
      "D fake loss is: 4.717552737343311e-11\n",
      "D real loss is: 2.6309012260417042e-11\n",
      "D fake loss is: 1.4273614235005283e-10\n"
     ]
    }
   ],
   "source": [
    "####### Discriminator back pass #######\n",
    "\n",
    "\n",
    "\n",
    "discriminator.zero_grad()\n",
    "for epoch in range(50):\n",
    "\n",
    "    ############################\n",
    "    # (1) Update D network: maximize log(D(x)) + log(1 - D(G(z)))\n",
    "    ###########################\n",
    "    discriminator.zero_grad()\n",
    "\n",
    "    real_w = np.load(r'..\\Datasets\\fake_256\\ws\\00000\\00001.npy')\n",
    "    real_w = real_w[:8]\n",
    "    real_prob = discriminator(torch.from_numpy(real_w)).view(-1)\n",
    "    errD_real = calc_Dw_loss(real_prob, 0, \"cpu\", generated_w_vec, 0.01)\n",
    "    errD_real.backward()\n",
    "    D_x = real_prob.mean().item()\n",
    "    print(f'D real loss is: {D_x}')\n",
    "\n",
    "    fake_prob = discriminator(generated_w_vec.detach()).view(-1)\n",
    "    errD_fake = calc_Dw_loss(fake_prob, 0, \"cpu\", generated_w_vec, 0.01)\n",
    "    errD_fake.backward()\n",
    "    D_G_z1  = fake_prob.mean().item()\n",
    "    print(f'D fake loss is: {D_G_z1}')\n",
    "\n",
    "    errD = errD_fake + errD_real\n",
    "    optimizerD.step()\n",
    "    \n",
    "    \n",
    "    ############################\n",
    "    # (2) Update MLP network: maximize log(D(G(z)))\n",
    "    ###########################\n",
    "    mlp.zero_grad()\n",
    "    # Since we just updated D, perform another forward pass of all-fake batch through D\n",
    "    fake_prob = discriminator(generated_w_vec.detach()).view(-1)\n",
    "    errMLP = calc_Dw_loss(fake_prob, 0, \"cpu\", generated_w_vec, 0.01)\n",
    "    # Calculate gradients for MLP\n",
    "    errMLP.backward()\n",
    "    D_MLP = fake_prob.mean().item()\n",
    "\n",
    "    # Update G\n",
    "    optimizerMLP.step()\n",
    "\n",
    "\n",
    "    MLP_losses.append(errMLP.item())\n",
    "    D_losses.append(errD.item())\n"
   ],
   "metadata": {
    "collapsed": false,
    "pycharm": {
     "name": "#%%\n"
    }
   }
  },
  {
   "cell_type": "code",
   "execution_count": 81,
   "outputs": [
    {
     "data": {
      "text/plain": "<Figure size 720x360 with 1 Axes>",
      "image/png": "[encoded data removed]"
     },
     "metadata": {},
     "output_type": "display_data"
    }
   ],
   "source": [
    "plt.figure(figsize=(10,5))\n",
    "plt.title(\"MLP and Discriminator Loss During Training of single batch\")\n",
    "plt.plot(MLP_losses,label=\"MLP\")\n",
    "plt.plot(D_losses,label=\"D\")\n",
    "plt.xlabel(\"iterations\")\n",
    "plt.ylabel(\"Loss\")\n",
    "plt.legend()\n",
    "plt.show()\n"
   ],
   "metadata": {
    "collapsed": false,
    "pycharm": {
     "name": "#%%\n"
    }
   }
  },
  {
   "cell_type": "code",
   "execution_count": null,
   "outputs": [],
   "source": [],
   "metadata": {
    "collapsed": false,
    "pycharm": {
     "name": "#%%\n"
    }
   }
  }
 ],
 "metadata": {
  "kernelspec": {
   "display_name": "Python 3",
   "language": "python",
   "name": "python3"
  },
  "language_info": {
   "codemirror_mode": {
    "name": "ipython",
    "version": 3
   },
   "file_extension": ".py",
   "mimetype": "text/x-python",
   "name": "python",
   "nbconvert_exporter": "python",
   "pygments_lexer": "ipython3",
   "version": "3.8.6"
  }
 },
 "nbformat": 4,
 "nbformat_minor": 4
}